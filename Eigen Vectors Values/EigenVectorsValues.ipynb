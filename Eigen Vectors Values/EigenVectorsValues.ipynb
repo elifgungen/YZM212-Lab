{
 "cells": [
  {
   "cell_type": "markdown",
   "id": "57bcbfce",
   "metadata": {},
   "source": [
    "# Eigen Decomposition Çalışması\n",
    "Bu notebook, bir matrisin hem `numpy.linalg.eig` fonksiyonu ile hem de manuel yollarla (karakteristik polinom üzerinden) özdeğerlerinin nasıl hesaplandığını göstermektedir."
   ]
  },
  {
   "cell_type": "code",
   "execution_count": null,
   "id": "6921dc58",
   "metadata": {},
   "outputs": [],
   "source": [
    "import numpy as np\n",
    "\n",
    "# Örnek matris (3x3)\n",
    "A = np.array([[6, 1, -1],\n",
    "              [0, 7, 0],\n",
    "              [3, -1, 2]])\n",
    "\n",
    "A"
   ]
  },
  {
   "cell_type": "markdown",
   "id": "63df3b20",
   "metadata": {},
   "source": [
    "## NumPy ile Özdeğer ve Özvektör Hesaplama"
   ]
  },
  {
   "cell_type": "code",
   "execution_count": null,
   "id": "d28da09f",
   "metadata": {},
   "outputs": [],
   "source": [
    "eigenvalues_np, eigenvectors_np = np.linalg.eig(A)\n",
    "\n",
    "print(\"NumPy Özdeğerler:\")\n",
    "print(eigenvalues_np)\n",
    "\n",
    "print(\"\\nNumPy Özvektörler:\")\n",
    "print(eigenvectors_np)"
   ]
  },
  {
   "cell_type": "markdown",
   "id": "aa64f136",
   "metadata": {},
   "source": [
    "## Manuel Özdeğer Hesaplama (Karakteristik Polinom ile)"
   ]
  },
  {
   "cell_type": "code",
   "execution_count": null,
   "id": "45a3c854",
   "metadata": {},
   "outputs": [],
   "source": [
    "def get_dimensions(matrix):\n",
    "    return [len(matrix), len(matrix[0])]\n",
    "\n",
    "def list_multiply(list1, list2):\n",
    "    result = [0 for _ in range(len(list1) + len(list2) - 1)]\n",
    "    for i in range(len(list1)):\n",
    "        for j in range(len(list2)):\n",
    "            result[i + j] += list1[i] * list2[j]\n",
    "    return result\n",
    "\n",
    "def list_add(list1, list2, sub=1):\n",
    "    return [i + (sub * j) for i, j in zip(list1, list2)]\n",
    "\n",
    "def determinant_equation(matrix, excluded=[1, 0]):\n",
    "    dimensions = get_dimensions(matrix)\n",
    "    if dimensions == [2, 2]:\n",
    "        tmp = list_add(list_multiply(matrix[0][0], matrix[1][1]),\n",
    "                       list_multiply(matrix[0][1], matrix[1][0]), sub=-1)\n",
    "        return list_multiply(tmp, excluded)\n",
    "    else:\n",
    "        new_matrices = []\n",
    "        excluded = []\n",
    "        exclude_row = 0\n",
    "        for exclude_column in range(dimensions[1]):\n",
    "            tmp = []\n",
    "            excluded.append(matrix[exclude_row][exclude_column])\n",
    "            for row in range(1, dimensions[0]):\n",
    "                tmp_row = []\n",
    "                for column in range(dimensions[1]):\n",
    "                    if (row != exclude_row) and (column != exclude_column):\n",
    "                        tmp_row.append(matrix[row][column])\n",
    "                tmp.append(tmp_row)\n",
    "            new_matrices.append(tmp)\n",
    "        determinant_equations = [determinant_equation(new_matrices[j], excluded[j]) for j in range(len(new_matrices))]\n",
    "        dt_equation = [sum(i) for i in zip(*determinant_equations)]\n",
    "        return dt_equation\n",
    "\n",
    "def identity_matrix(dimensions):\n",
    "    matrix = [[0 for j in range(dimensions[1])] for i in range(dimensions[0])]\n",
    "    for i in range(dimensions[0]):\n",
    "        matrix[i][i] = 1\n",
    "    return matrix\n",
    "\n",
    "def characteristic_equation(matrix):\n",
    "    dimensions = get_dimensions(matrix)\n",
    "    return [[[a, -b] for a, b in zip(i, j)] for i, j in zip(matrix, identity_matrix(dimensions))]\n",
    "\n",
    "def find_eigenvalues(matrix):\n",
    "    dt_equation = determinant_equation(characteristic_equation(matrix))\n",
    "    return np.roots(dt_equation[::-1])\n",
    "\n",
    "eigenvalues_manual = find_eigenvalues(A)\n",
    "print(\"Manuel Özdeğerler:\")\n",
    "print(eigenvalues_manual)"
   ]
  },
  {
   "cell_type": "markdown",
   "id": "e14d9033",
   "metadata": {},
   "source": [
    "## Sonuç Karşılaştırması"
   ]
  },
  {
   "cell_type": "code",
   "execution_count": null,
   "id": "89b3fd3e",
   "metadata": {},
   "outputs": [],
   "source": [
    "print(\"NumPy Özdeğerler:\", np.sort(eigenvalues_np))\n",
    "print(\"Manuel Özdeğerler:\", np.sort(eigenvalues_manual))"
   ]
  }
 ],
 "metadata": {},
 "nbformat": 4,
 "nbformat_minor": 5
}